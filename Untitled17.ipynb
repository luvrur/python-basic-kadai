{
  "nbformat": 4,
  "nbformat_minor": 0,
  "metadata": {
    "colab": {
      "provenance": [],
      "authorship_tag": "ABX9TyPpqn3XJw6iAX2EccYfRc8F",
      "include_colab_link": true
    },
    "kernelspec": {
      "name": "python3",
      "display_name": "Python 3"
    },
    "language_info": {
      "name": "python"
    }
  },
  "cells": [
    {
      "cell_type": "markdown",
      "metadata": {
        "id": "view-in-github",
        "colab_type": "text"
      },
      "source": [
        "<a href=\"https://colab.research.google.com/github/luvrur/python-basic-kadai/blob/main/Untitled17.ipynb\" target=\"_parent\"><img src=\"https://colab.research.google.com/assets/colab-badge.svg\" alt=\"Open In Colab\"/></a>"
      ]
    },
    {
      "cell_type": "code",
      "execution_count": null,
      "metadata": {
        "id": "Mgtur6V5DUP7"
      },
      "outputs": [],
      "source": []
    },
    {
      "cell_type": "code",
      "source": [
        "class Human:\n",
        "  def __init__(self, name, age):\n",
        "    self.name = name\n",
        "    self.age = age\n",
        "\n",
        "def check_adult(self):\n",
        "  if self.age >= 20:\n",
        "    print(self.name,\" は成人です。\")\n",
        "  else:\n",
        "    print(self.name,\" は未成年です。\")\n",
        "\n",
        "human1 = Human(\"侍太郎\", 18)\n",
        "human2 = Human(\"侍次郎\", 20)\n",
        "human3 = Human(\"侍三郎\", 22)\n",
        "\n",
        "Human = [human1, human2, human3]\n",
        "\n",
        "for human in Human:\n",
        "  check_adult(human)"
      ],
      "metadata": {
        "id": "h2cb8UCf-Qt7",
        "outputId": "d8a4e9a5-eba4-4710-df10-ed8698ab1122",
        "colab": {
          "base_uri": "https://localhost:8080/"
        }
      },
      "execution_count": 6,
      "outputs": [
        {
          "output_type": "stream",
          "name": "stdout",
          "text": [
            "侍太郎  は未成年です。\n",
            "侍次郎  は成人です。\n",
            "侍三郎  は成人です。\n"
          ]
        }
      ]
    }
  ]
}