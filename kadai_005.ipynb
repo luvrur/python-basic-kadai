{
  "nbformat": 4,
  "nbformat_minor": 0,
  "metadata": {
    "colab": {
      "provenance": []
    },
    "kernelspec": {
      "name": "python3",
      "display_name": "Python 3"
    },
    "language_info": {
      "name": "python"
    }
  },
  "cells": [
    {
      "cell_type": "code",
      "execution_count": null,
      "metadata": {
        "colab": {
          "base_uri": "https://localhost:8080/"
        },
        "id": "93VC-eGQrCZ-",
        "outputId": "620d67a2-f1e5-406f-836c-5882b8f326a8"
      },
      "outputs": [
        {
          "output_type": "stream",
          "name": "stdout",
          "text": [
            "75.0 ㎠\n"
          ]
        }
      ],
      "source": [
        "upper = 10\n",
        "lower = 20\n",
        "height = 5\n",
        "area = (upper + lower) * height / 2\n",
        "print(area, \"㎠\" )"
      ]
    }
  ]
}